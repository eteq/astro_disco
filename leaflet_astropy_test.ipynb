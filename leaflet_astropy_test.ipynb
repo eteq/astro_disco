{
 "cells": [
  {
   "cell_type": "code",
   "execution_count": null,
   "metadata": {},
   "outputs": [],
   "source": [
    "import sys\n",
    "sys.executable"
   ]
  },
  {
   "cell_type": "code",
   "execution_count": null,
   "metadata": {},
   "outputs": [],
   "source": [
    "import ipywidgets\n",
    "\n",
    "ipywidgets.Button()"
   ]
  },
  {
   "cell_type": "code",
   "execution_count": 24,
   "metadata": {},
   "outputs": [
    {
     "data": {
      "text/plain": [
       "GeodeticLocation(lon=<Longitude -76.62337004 deg>, lat=<Latitude 39.3327459 deg>, height=<Quantity 0. m>)"
      ]
     },
     "execution_count": 24,
     "metadata": {},
     "output_type": "execute_result"
    }
   ],
   "source": [
    "coordinates.EarthLocation.of_address('3700 san martin dr, baltimore, md').geodetic"
   ]
  },
  {
   "cell_type": "code",
   "execution_count": 3,
   "metadata": {},
   "outputs": [
    {
     "data": {
      "application/vnd.jupyter.widget-view+json": {
       "model_id": "9ddc562eabb340a8b374c03f07d7599f",
       "version_major": 2,
       "version_minor": 0
      },
      "text/plain": [
       "Map(center=[52.204793, 360.121558], controls=(ZoomControl(options=['position', 'zoom_in_text', 'zoom_in_title'…"
      ]
     },
     "metadata": {},
     "output_type": "display_data"
    }
   ],
   "source": [
    "from ipyleaflet import Map, Marker\n",
    "\n",
    "center = (52.204793, 360.121558)\n",
    "\n",
    "m = Map(center=center, zoom=15)\n",
    "\n",
    "marker = Marker(location=center, draggable=True)\n",
    "m.add_layer(marker)\n",
    "\n",
    "display(m)"
   ]
  },
  {
   "cell_type": "code",
   "execution_count": 21,
   "metadata": {},
   "outputs": [],
   "source": [
    "import numpy as np\n",
    "from astropy import constants as cnst\n",
    "from astropy import units as u\n",
    "from astropy import coordinates\n",
    "\n",
    "keck = coordinates.EarthLocation.of_site('Keck')\n",
    "gemini = coordinates.EarthLocation.of_site('gemini_north')\n",
    "cfht = coordinates.EarthLocation.of_site('CFHT')\n",
    "ukirt = coordinates.EarthLocation.of_site('ukirt')"
   ]
  },
  {
   "cell_type": "code",
   "execution_count": 5,
   "metadata": {},
   "outputs": [],
   "source": [
    "# Now that the marker is on the Map, you can drag it with your mouse,\n",
    "# it will automatically update the `marker.location` attribute in Python\n",
    "\n",
    "# You can also update the marker location from Python, that will update the\n",
    "# marker location on the Map:\n",
    "marker.location = (keck.lat.deg, keck.lon.deg)\n",
    "marker.title = 'Keck'\n",
    "m.center = marker.location\n",
    "m.zoom = 14"
   ]
  },
  {
   "cell_type": "code",
   "execution_count": 6,
   "metadata": {},
   "outputs": [],
   "source": [
    "markers = [marker]\n",
    "\n",
    "for sitename in 'gemini cfht ukirt'.split():\n",
    "    site = globals()[sitename]\n",
    "    markers.append(Marker(location=(site.lat.deg, site.lon.deg), \n",
    "                          title=sitename, draggable=False))\n",
    "    m.add_layer(markers[-1])"
   ]
  },
  {
   "cell_type": "code",
   "execution_count": null,
   "metadata": {},
   "outputs": [],
   "source": [
    "Now hand-drag the keck marker to where it appears on the map"
   ]
  },
  {
   "cell_type": "code",
   "execution_count": 22,
   "metadata": {},
   "outputs": [
    {
     "data": {
      "text/latex": [
       "$488.94385 \\; \\mathrm{m}$"
      ],
      "text/plain": [
       "<Quantity 488.94384556 m>"
      ]
     },
     "execution_count": 22,
     "metadata": {},
     "output_type": "execute_result"
    }
   ],
   "source": [
    "cnst.R_earth*np.hypot(keck.lat-marker.location[0]*u.deg, keck.lon-marker.location[1]*u.deg).radian"
   ]
  },
  {
   "cell_type": "markdown",
   "metadata": {},
   "source": [
    "The marker is off by that much... "
   ]
  }
 ],
 "metadata": {
  "kernelspec": {
   "display_name": "Python 3",
   "language": "python",
   "name": "python3"
  },
  "language_info": {
   "codemirror_mode": {
    "name": "ipython",
    "version": 3
   },
   "file_extension": ".py",
   "mimetype": "text/x-python",
   "name": "python",
   "nbconvert_exporter": "python",
   "pygments_lexer": "ipython3",
   "version": "3.8.5"
  }
 },
 "nbformat": 4,
 "nbformat_minor": 4
}
