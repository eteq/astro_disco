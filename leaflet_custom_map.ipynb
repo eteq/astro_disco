{
 "cells": [
  {
   "cell_type": "code",
   "execution_count": 3,
   "metadata": {},
   "outputs": [
    {
     "data": {
      "application/vnd.jupyter.widget-view+json": {
       "model_id": "cc78c6ef67024c0ab654b020d976e2f1",
       "version_major": 2,
       "version_minor": 0
      },
      "text/plain": [
       "Map(center=[39.3327459, -76.62337004], controls=(ZoomControl(options=['position', 'zoom_in_text', 'zoom_in_tit…"
      ]
     },
     "metadata": {},
     "output_type": "display_data"
    }
   ],
   "source": [
    "from ipyleaflet import Map, basemaps, basemap_to_tiles\n",
    "\n",
    "m = Map(center=(39.3327459, -76.62337004), zoom=9)\n",
    "\n",
    "dark_matter_layer = basemap_to_tiles(basemaps.NASAGIBS.ModisTerraTrueColorCR)\n",
    "m.add_layer(dark_matter_layer)\n",
    "m"
   ]
  },
  {
   "cell_type": "code",
   "execution_count": 13,
   "metadata": {},
   "outputs": [
    {
     "name": "stdout",
     "output_type": "stream",
     "text": [
      "--2020-12-08 00:41:02--  https://archive.stsci.edu/pub/hlsp/angst/acs/hlsp_angst_hst_acs-wfc_10210-ugc9128_f814w_v1_ref.fits\n",
      "Resolving archive.stsci.edu (archive.stsci.edu)... 130.167.252.39\n",
      "Connecting to archive.stsci.edu (archive.stsci.edu)|130.167.252.39|:443... connected.\n",
      "HTTP request sent, awaiting response... 200 OK\n",
      "Length: 71418240 (68M) [allicashion/octet-stream]\n",
      "Saving to: ‘test.fits’\n",
      "\n",
      "test.fits           100%[===================>]  68.11M  14.2MB/s    in 4.9s    \n",
      "\n",
      "2020-12-08 00:41:08 (14.0 MB/s) - ‘test.fits’ saved [71418240/71418240]\n",
      "\n"
     ]
    }
   ],
   "source": [
    "!wget https://archive.stsci.edu/pub/hlsp/angst/acs/hlsp_angst_hst_acs-wfc_10210-ugc9128_f814w_v1_ref.fits -O test.fits"
   ]
  },
  {
   "cell_type": "code",
   "execution_count": 102,
   "metadata": {},
   "outputs": [
    {
     "data": {
      "text/plain": [
       "(<Response [200]>, '\"fits_test.fits_0_1\"')"
      ]
     },
     "execution_count": 102,
     "metadata": {},
     "output_type": "execute_result"
    }
   ],
   "source": [
    "import requests\n",
    "\n",
    "res = requests.get('http://127.0.0.1:8000/loadfits/test.fits/0')\n",
    "res, res.text"
   ]
  },
  {
   "cell_type": "code",
   "execution_count": 106,
   "metadata": {},
   "outputs": [
    {
     "data": {
      "text/plain": [
       "<Response [200]>"
      ]
     },
     "execution_count": 106,
     "metadata": {},
     "output_type": "execute_result"
    }
   ],
   "source": [
    "hsh = res.json()\n",
    "x = 1\n",
    "y = 3\n",
    "res2 = requests.get(f'http://127.0.0.1:8000/tile/{hsh}/1/{x}.{y}')\n",
    "res2"
   ]
  },
  {
   "cell_type": "code",
   "execution_count": 107,
   "metadata": {},
   "outputs": [
    {
     "data": {
      "image/png": "[encoded data removed]"
     },
     "metadata": {},
     "output_type": "display_data"
    }
   ],
   "source": [
    "from IPython import display\n",
    "\n",
    "display.display_png(res2.content, raw=True)"
   ]
  },
  {
   "cell_type": "code",
   "execution_count": 95,
   "metadata": {},
   "outputs": [],
   "source": [
    "import ipyleaflet"
   ]
  },
  {
   "cell_type": "code",
   "execution_count": 108,
   "metadata": {},
   "outputs": [
    {
     "data": {
      "application/vnd.jupyter.widget-view+json": {
       "model_id": "f138faaeff0b4aeebf512f057a8209c0",
       "version_major": 2,
       "version_minor": 0
      },
      "text/plain": [
       "Map(center=[0.0, 0.0], controls=(ZoomControl(options=['position', 'zoom_in_text', 'zoom_in_title', 'zoom_out_t…"
      ]
     },
     "metadata": {},
     "output_type": "display_data"
    }
   ],
   "source": [
    "l = ipyleaflet.TileLayer(url='http://127.0.0.1:8000/tile/'+hsh+'/{z}/{x}.{y}')\n",
    "m = ipyleaflet.Map(layers=[l], crs=ipyleaflet.projections.Simple)\n",
    "m "
   ]
  }
 ],
 "metadata": {
  "kernelspec": {
   "display_name": "Python 3",
   "language": "python",
   "name": "python3"
  },
  "language_info": {
   "codemirror_mode": {
    "name": "ipython",
    "version": 3
   },
   "file_extension": ".py",
   "mimetype": "text/x-python",
   "name": "python",
   "nbconvert_exporter": "python",
   "pygments_lexer": "ipython3",
   "version": "3.8.5"
  }
 },
 "nbformat": 4,
 "nbformat_minor": 4
}
