{
 "cells": [
  {
   "cell_type": "code",
   "execution_count": 31,
   "metadata": {},
   "outputs": [
    {
     "data": {
      "application/vnd.jupyter.widget-view+json": {
       "model_id": "542f3dc616cf412686b0ea478fe7b4f8",
       "version_major": 2,
       "version_minor": 0
      },
      "text/plain": [
       "Map(center=[39.3327459, -76.62337004], controls=(ZoomControl(options=['position', 'zoom_in_text', 'zoom_in_tit…"
      ]
     },
     "metadata": {},
     "output_type": "display_data"
    }
   ],
   "source": [
    "from ipyleaflet import Map, basemaps, basemap_to_tiles\n",
    "\n",
    "m = Map(center=(39.3327459, -76.62337004), zoom=9)\n",
    "\n",
    "dark_matter_layer = basemap_to_tiles(basemaps.NASAGIBS.ModisTerraTrueColorCR)\n",
    "m.add_layer(dark_matter_layer)\n",
    "m"
   ]
  },
  {
   "cell_type": "code",
   "execution_count": null,
   "metadata": {},
   "outputs": [],
   "source": []
  },
  {
   "cell_type": "code",
   "execution_count": 32,
   "metadata": {},
   "outputs": [
    {
     "data": {
      "text/plain": [
       "\u001b[0;31mInit signature:\u001b[0m \u001b[0mMap\u001b[0m\u001b[0;34m(\u001b[0m\u001b[0;34m*\u001b[0m\u001b[0margs\u001b[0m\u001b[0;34m,\u001b[0m \u001b[0;34m**\u001b[0m\u001b[0mkwargs\u001b[0m\u001b[0;34m)\u001b[0m\u001b[0;34m\u001b[0m\u001b[0;34m\u001b[0m\u001b[0m\n",
       "\u001b[0;31mDocstring:\u001b[0m     \n",
       "Map class.\n",
       "\n",
       "The Map class is the main widget in ipyleaflet.\n",
       "\n",
       "Attributes\n",
       "----------\n",
       "layers: list of Layer instances\n",
       "    The list of layers that are currently on the map.\n",
       "controls: list of Control instances\n",
       "    The list of controls that are currently on the map.\n",
       "center: list, default [0, 0]\n",
       "    The current center of the map.\n",
       "zoom: float, default 12\n",
       "    The current zoom value of the map.\n",
       "zoom_snap: float, default 1\n",
       "    Forces the map’s zoom level to always be a multiple of this..\n",
       "zoom_delta: float, default 1\n",
       "    Controls how much the map’s zoom level will change after\n",
       "    pressing + or - on the keyboard, or using the zoom controls.\n",
       "crs: projection, default projections.EPSG3857\n",
       "    Coordinate reference system, which can be ‘Earth’, ‘EPSG3395’, ‘EPSG3857’,\n",
       "    ‘EPSG4326’, ‘Base’, ‘Simple’ or user defined projection.\n",
       "\u001b[0;31mInit docstring:\u001b[0m Public constructor\n",
       "\u001b[0;31mFile:\u001b[0m           ~/.venv/astro_disco/lib/python3.8/site-packages/ipyleaflet/leaflet.py\n",
       "\u001b[0;31mType:\u001b[0m           MetaHasTraits\n",
       "\u001b[0;31mSubclasses:\u001b[0m     \n"
      ]
     },
     "metadata": {},
     "output_type": "display_data"
    }
   ],
   "source": [
    "m = Map?"
   ]
  },
  {
   "cell_type": "code",
   "execution_count": null,
   "metadata": {},
   "outputs": [],
   "source": [
    "m = Map"
   ]
  },
  {
   "cell_type": "code",
   "execution_count": null,
   "metadata": {},
   "outputs": [],
   "source": []
  }
 ],
 "metadata": {
  "kernelspec": {
   "display_name": "Python 3",
   "language": "python",
   "name": "python3"
  },
  "language_info": {
   "codemirror_mode": {
    "name": "ipython",
    "version": 3
   },
   "file_extension": ".py",
   "mimetype": "text/x-python",
   "name": "python",
   "nbconvert_exporter": "python",
   "pygments_lexer": "ipython3",
   "version": "3.8.5"
  }
 },
 "nbformat": 4,
 "nbformat_minor": 4
}
